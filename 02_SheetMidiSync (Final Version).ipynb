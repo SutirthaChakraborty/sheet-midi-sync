{
 "cells": [
  {
   "cell_type": "code",
   "execution_count": 1,
   "metadata": {
    "ExecuteTime": {
     "end_time": "2018-09-09T19:25:18.123512Z",
     "start_time": "2018-09-09T19:25:17.918427Z"
    },
    "collapsed": true
   },
   "outputs": [],
   "source": [
    "%matplotlib inline"
   ]
  },
  {
   "cell_type": "code",
   "execution_count": 2,
   "metadata": {
    "ExecuteTime": {
     "end_time": "2018-09-09T19:25:18.710936Z",
     "start_time": "2018-09-09T19:25:18.330984Z"
    },
    "collapsed": true
   },
   "outputs": [],
   "source": [
    "import numpy as np\n",
    "from scipy.spatial.distance import cdist\n",
    "from scipy.stats import linregress\n",
    "from scipy.signal import convolve2d, gaussian, argrelextrema\n",
    "from sklearn.preprocessing import normalize\n",
    "import matplotlib.pyplot as plt\n",
    "import pickle\n",
    "import librosa\n",
    "import glob\n",
    "import re\n",
    "import sys\n",
    "import os\n",
    "import mido\n",
    "from tqdm import tqdm_notebook\n",
    "from mido import MidiFile"
   ]
  },
  {
   "cell_type": "markdown",
   "metadata": {},
   "source": [
    "### Load strips"
   ]
  },
  {
   "cell_type": "markdown",
   "metadata": {},
   "source": [
    "All pkl data lies in this directory"
   ]
  },
  {
   "cell_type": "code",
   "execution_count": 3,
   "metadata": {
    "ExecuteTime": {
     "end_time": "2018-09-09T19:25:19.372529Z",
     "start_time": "2018-09-09T19:25:19.369375Z"
    },
    "collapsed": true
   },
   "outputs": [],
   "source": [
    "pkl_dir = 'score_data/pkl_data'"
   ]
  },
  {
   "cell_type": "code",
   "execution_count": 4,
   "metadata": {
    "ExecuteTime": {
     "end_time": "2018-09-09T19:25:19.675054Z",
     "start_time": "2018-09-09T19:25:19.658954Z"
    },
    "collapsed": true
   },
   "outputs": [],
   "source": [
    "def sort_nicely(l):\n",
    "    d = {}\n",
    "    for elem in l:\n",
    "        m = re.search('\\S+-(\\d+)\\.pkl', elem)\n",
    "        if m:\n",
    "            idx = int(m.group(1))\n",
    "            d[idx] = elem\n",
    "        else:\n",
    "            print('Failed regular expression matching: %s' % (elem))\n",
    "            sys.exit(1)\n",
    "    sorted_filenames = [d[key] for key in sorted(d.keys())]\n",
    "    return sorted_filenames"
   ]
  },
  {
   "cell_type": "code",
   "execution_count": 5,
   "metadata": {
    "ExecuteTime": {
     "end_time": "2018-09-09T19:25:20.031163Z",
     "start_time": "2018-09-09T19:25:20.024921Z"
    },
    "collapsed": true
   },
   "outputs": [],
   "source": [
    "def loadStripData(basename):\n",
    "    pkl_files = sort_nicely(glob.glob(pkl_dir + '/' + basename + '-*.pkl'))\n",
    "    strips = []\n",
    "    for pkl_file in pkl_files:\n",
    "        with open(pkl_file, 'rb') as f:\n",
    "            d = pickle.load(f)\n",
    "            strips.extend(d['strips'])\n",
    "    return strips"
   ]
  },
  {
   "cell_type": "code",
   "execution_count": 6,
   "metadata": {
    "ExecuteTime": {
     "end_time": "2018-09-09T19:25:20.126707Z",
     "start_time": "2018-09-09T19:25:20.122022Z"
    },
    "collapsed": true
   },
   "outputs": [],
   "source": [
    "def showImage(X, sz = (12,12)):\n",
    "    plt.figure(figsize=sz)\n",
    "    plt.imshow(1-X, cmap='gray')"
   ]
  },
  {
   "cell_type": "code",
   "execution_count": 7,
   "metadata": {
    "ExecuteTime": {
     "end_time": "2018-09-09T19:25:20.381197Z",
     "start_time": "2018-09-09T19:25:20.378491Z"
    },
    "collapsed": true
   },
   "outputs": [],
   "source": [
    "def showStrips(strips):\n",
    "    for strip in strips:\n",
    "        showImage(strip)"
   ]
  },
  {
   "cell_type": "code",
   "execution_count": null,
   "metadata": {
    "ExecuteTime": {
     "end_time": "2018-09-09T19:33:44.525409Z",
     "start_time": "2018-09-09T19:33:44.521194Z"
    },
    "collapsed": true
   },
   "outputs": [],
   "source": [
    "scoreFile = 'mendelssohn_op62no3_v2'"
   ]
  },
  {
   "cell_type": "code",
   "execution_count": null,
   "metadata": {
    "ExecuteTime": {
     "end_time": "2018-09-09T19:33:45.726918Z",
     "start_time": "2018-09-09T19:33:45.508463Z"
    },
    "collapsed": true
   },
   "outputs": [],
   "source": [
    "strips = loadStripData(scoreFile)"
   ]
  },
  {
   "cell_type": "code",
   "execution_count": null,
   "metadata": {
    "ExecuteTime": {
     "end_time": "2018-09-09T19:33:46.611947Z",
     "start_time": "2018-09-09T19:33:46.454310Z"
    },
    "collapsed": true
   },
   "outputs": [],
   "source": [
    "showImage(strips[30])"
   ]
  },
  {
   "cell_type": "markdown",
   "metadata": {},
   "source": [
    "### Sheet music strip analysis"
   ]
  },
  {
   "cell_type": "code",
   "execution_count": 8,
   "metadata": {
    "collapsed": true
   },
   "outputs": [],
   "source": [
    "from skimage.transform import rotate"
   ]
  },
  {
   "cell_type": "code",
   "execution_count": 36,
   "metadata": {
    "collapsed": true
   },
   "outputs": [],
   "source": [
    "def rotateToHorizontal(img, lb=-.5, ub=.5, incr=.02, topN=40):\n",
    "    bestscore = -np.inf\n",
    "    bestTheta = 0\n",
    "    for theta in np.arange(lb, ub, incr):\n",
    "        imgRot = rotate(img,theta)\n",
    "        rsums = np.sum(imgRot, axis=1)\n",
    "        rsums_sorted = sorted(rsums)[::-1]\n",
    "        curscore = np.sum(rsums_sorted[0:topN])\n",
    "        if curscore > bestscore:\n",
    "            bestscore = curscore\n",
    "            bestTheta = theta\n",
    "    result = rotate(img,bestTheta)\n",
    "    return result"
   ]
  },
  {
   "cell_type": "code",
   "execution_count": 35,
   "metadata": {
    "collapsed": true
   },
   "outputs": [],
   "source": [
    "def fitStaffLines(scores, height):\n",
    "    N = len(scores)\n",
    "    idx_RH, idx_LH, best_score = 0, 0, -1\n",
    "    idxs_sorted = np.argsort(scores)[::-1]\n",
    "    min_separation = int(height * 1.66)\n",
    "    idx1 = idxs_sorted[0]\n",
    "    for j in range(1, N):\n",
    "        idx2 = idxs_sorted[j]\n",
    "        curScore = scores[idx1] + scores[idx2]\n",
    "        sep = np.abs(idx1 - idx2)\n",
    "        if sep > min_separation and curScore > best_score:\n",
    "            best_score = curScore\n",
    "            idx_RH = min(idx1, idx2)\n",
    "            idx_LH = max(idx1, idx2)\n",
    "            break\n",
    "    return best_score, idx_RH, idx_LH"
   ]
  },
  {
   "cell_type": "code",
   "execution_count": 37,
   "metadata": {
    "collapsed": true
   },
   "outputs": [],
   "source": [
    "def locateStaffLines(s, min_height = 60, max_height = 120, plot = False):\n",
    "    rsums = np.sum(s, axis=1)\n",
    "    bestScore = 0\n",
    "    lineLocs = np.zeros(10)\n",
    "    for h in range(min_height,max_height+1):\n",
    "        idxs = h * np.arange(5) / 4.0\n",
    "        idxs = idxs.round().astype('int')\n",
    "        filt = np.zeros(h+1)\n",
    "        filt[idxs] = 1 # create comb filter\n",
    "        scores = np.convolve(rsums, filt, 'valid')\n",
    "        curScore, idx_RH, idx_LH = fitStaffLines(scores, h)\n",
    "        if curScore > bestScore:\n",
    "            bestScore = curScore\n",
    "            lineLocs[0:5] = idxs + idx_RH\n",
    "            lineLocs[5:] = idxs + idx_LH\n",
    "    \n",
    "    if plot:\n",
    "        plt.plot(rsums)\n",
    "        for i in range(len(lineLocs)):\n",
    "            plt.axvline(x=lineLocs[i], color='r', linewidth=1)\n",
    "        plt.show()\n",
    "        \n",
    "    return lineLocs"
   ]
  },
  {
   "cell_type": "code",
   "execution_count": 38,
   "metadata": {
    "collapsed": true
   },
   "outputs": [],
   "source": [
    "def calcStaffLineLocs(strips):\n",
    "    result = np.zeros((len(strips),10))\n",
    "    for i, strip in enumerate(strips):\n",
    "        result[i,:] = locateStaffLines(strip, max_height = int(strip.shape[0]/4))\n",
    "    return result"
   ]
  },
  {
   "cell_type": "code",
   "execution_count": 39,
   "metadata": {
    "collapsed": true
   },
   "outputs": [],
   "source": [
    "def findMedianStaffHeight(strips):\n",
    "    staffLines = calcStaffLineLocs(strips)\n",
    "    return np.median(staffLines[:,4] - staffLines[:,0])"
   ]
  },
  {
   "cell_type": "code",
   "execution_count": 40,
   "metadata": {
    "ExecuteTime": {
     "end_time": "2018-09-09T19:33:49.011596Z",
     "start_time": "2018-09-09T19:33:49.001759Z"
    },
    "collapsed": true
   },
   "outputs": [],
   "source": [
    "def estimateMidiNum2PixelRowMapping(s, lineIdxs, hand = 'right'):\n",
    "    if hand == 'right':\n",
    "        x = np.array([77, 74, 71, 67, 64]) # midi nums for staff lines\n",
    "    elif hand == 'left':\n",
    "        x = np.array([57, 53, 50, 47, 43])\n",
    "    else:\n",
    "        print('Unrecognized value for hand: %s' % hand)\n",
    "        sys.exit(1)\n",
    "    m, b, _, _, _ = linregress(x, lineIdxs)\n",
    "    return (m,b)"
   ]
  },
  {
   "cell_type": "code",
   "execution_count": 41,
   "metadata": {
    "ExecuteTime": {
     "end_time": "2018-09-09T19:33:49.586420Z",
     "start_time": "2018-09-09T19:33:49.583620Z"
    },
    "collapsed": true
   },
   "outputs": [],
   "source": [
    "def estimatePixelRow(midinum, m, b):\n",
    "    return np.int(np.round(midinum * m + b))"
   ]
  },
  {
   "cell_type": "markdown",
   "metadata": {},
   "source": [
    "Estimate the location of C4 in the sheet music"
   ]
  },
  {
   "cell_type": "code",
   "execution_count": null,
   "metadata": {
    "ExecuteTime": {
     "end_time": "2018-09-09T19:33:50.617432Z",
     "start_time": "2018-09-09T19:33:50.583478Z"
    },
    "collapsed": true
   },
   "outputs": [],
   "source": [
    "s = strips[0]\n",
    "lines = locateStaffLines(s, min_height=len(s)//6, max_height=len(s)//4)\n",
    "breakpt = np.int(np.round(.5*(lines[4]+lines[5])))\n",
    "m, b = estimateMidiNum2PixelRowMapping(s[0:breakpt,:], lines[0:5], 'right')\n",
    "estC4 = estimatePixelRow(60, m, b)"
   ]
  },
  {
   "cell_type": "code",
   "execution_count": null,
   "metadata": {
    "ExecuteTime": {
     "end_time": "2018-09-09T19:33:51.263063Z",
     "start_time": "2018-09-09T19:33:51.132648Z"
    },
    "collapsed": true
   },
   "outputs": [],
   "source": [
    "plt.plot(np.sum(s, axis=1))"
   ]
  },
  {
   "cell_type": "code",
   "execution_count": null,
   "metadata": {
    "ExecuteTime": {
     "end_time": "2018-09-09T19:33:51.960526Z",
     "start_time": "2018-09-09T19:33:51.722093Z"
    },
    "collapsed": true,
    "scrolled": true
   },
   "outputs": [],
   "source": [
    "showImage(s[:,0:600], sz=(20,20))\n",
    "for line in lines:\n",
    "    plt.axhline(y = line, color='blue', linewidth=3)\n",
    "plt.axhline(y = estC4, color='r', linewidth=1)\n",
    "plt.show()"
   ]
  },
  {
   "cell_type": "markdown",
   "metadata": {},
   "source": [
    "### Notehead Detector"
   ]
  },
  {
   "cell_type": "code",
   "execution_count": 17,
   "metadata": {
    "ExecuteTime": {
     "end_time": "2018-09-09T19:33:58.780389Z",
     "start_time": "2018-09-09T19:33:58.772961Z"
    },
    "collapsed": false
   },
   "outputs": [
    {
     "name": "stderr",
     "output_type": "stream",
     "text": [
      "/home/mint/anaconda3/lib/python3.6/site-packages/h5py/__init__.py:36: FutureWarning: Conversion of the second argument of issubdtype from `float` to `np.floating` is deprecated. In future, it will be treated as `np.float64 == np.dtype(float).type`.\n",
      "  from ._conv import register_converters as _register_converters\n",
      "Using TensorFlow backend.\n"
     ]
    }
   ],
   "source": [
    "from sheet_id.models.DWD import DWD\n",
    "from sheet_id.utils.dwd_utils import generateFullpagePrediction, inferBoundingBoxes\n",
    "from sheet_id.utils.base_utils import visualizeBoundingBoxes\n",
    "import cv2\n",
    "from scipy.ndimage.interpolation import zoom"
   ]
  },
  {
   "cell_type": "code",
   "execution_count": 18,
   "metadata": {
    "ExecuteTime": {
     "end_time": "2018-09-09T19:34:00.773270Z",
     "start_time": "2018-09-09T19:33:59.092561Z"
    },
    "collapsed": true
   },
   "outputs": [],
   "source": [
    "model = DWD(input_shape=(500,500,1), n_classes=124)\n",
    "model.load_weights('sheet_id/dwd-re-finetune-20000.h5')"
   ]
  },
  {
   "cell_type": "code",
   "execution_count": null,
   "metadata": {
    "ExecuteTime": {
     "end_time": "2018-09-09T19:34:00.811989Z",
     "start_time": "2018-09-09T19:34:00.810087Z"
    },
    "collapsed": true
   },
   "outputs": [],
   "source": [
    "staff_height = lines[4] - lines[0]"
   ]
  },
  {
   "cell_type": "code",
   "execution_count": null,
   "metadata": {
    "ExecuteTime": {
     "end_time": "2018-09-09T19:34:00.876135Z",
     "start_time": "2018-09-09T19:34:00.848291Z"
    },
    "collapsed": true
   },
   "outputs": [],
   "source": [
    "img = 255 - (255*s).astype('uint8')"
   ]
  },
  {
   "cell_type": "code",
   "execution_count": null,
   "metadata": {
    "ExecuteTime": {
     "end_time": "2018-09-09T19:34:02.985959Z",
     "start_time": "2018-09-09T19:34:02.736628Z"
    },
    "collapsed": true
   },
   "outputs": [],
   "source": [
    "plt.figure(figsize=(20,20))\n",
    "plt.imshow(img, cmap='gray')"
   ]
  },
  {
   "cell_type": "code",
   "execution_count": null,
   "metadata": {
    "ExecuteTime": {
     "end_time": "2018-09-09T19:34:03.788780Z",
     "start_time": "2018-09-09T19:34:03.603241Z"
    },
    "collapsed": true
   },
   "outputs": [],
   "source": [
    "scale = 104.5/20\n",
    "img2 = zoom(img, scale).astype('uint8')\n",
    "# img2 = 255 - img2"
   ]
  },
  {
   "cell_type": "code",
   "execution_count": null,
   "metadata": {
    "ExecuteTime": {
     "end_time": "2018-09-09T19:34:04.464088Z",
     "start_time": "2018-09-09T19:34:04.204937Z"
    },
    "collapsed": true
   },
   "outputs": [],
   "source": [
    "plt.figure(figsize=(16,16))\n",
    "plt.imshow(img2, cmap='gray')\n",
    "for line in lines:\n",
    "    plt.axhline(y = line * scale, color='blue', linewidth=3)"
   ]
  },
  {
   "cell_type": "code",
   "execution_count": null,
   "metadata": {
    "ExecuteTime": {
     "end_time": "2018-09-09T19:34:05.074916Z",
     "start_time": "2018-09-09T19:34:05.038011Z"
    },
    "collapsed": true
   },
   "outputs": [],
   "source": [
    "np.unique(img2)"
   ]
  },
  {
   "cell_type": "code",
   "execution_count": null,
   "metadata": {
    "ExecuteTime": {
     "end_time": "2018-09-09T19:34:09.886164Z",
     "start_time": "2018-09-09T19:34:06.095851Z"
    },
    "collapsed": true
   },
   "outputs": [],
   "source": [
    "energy_map, class_map, bbox_map = generateFullpagePrediction(model, img2)"
   ]
  },
  {
   "cell_type": "code",
   "execution_count": null,
   "metadata": {
    "ExecuteTime": {
     "end_time": "2018-09-09T19:34:10.068831Z",
     "start_time": "2018-09-09T19:34:09.921768Z"
    },
    "collapsed": true
   },
   "outputs": [],
   "source": [
    "plt.imshow(energy_map)"
   ]
  },
  {
   "cell_type": "code",
   "execution_count": null,
   "metadata": {
    "ExecuteTime": {
     "end_time": "2018-09-09T19:34:10.675356Z",
     "start_time": "2018-09-09T19:34:10.100946Z"
    },
    "collapsed": true
   },
   "outputs": [],
   "source": [
    "boxes, scores = inferBoundingBoxes(energy_map, class_map, bbox_map, threshold_binarization=4, \n",
    "                                   non_max_suppression_factor=0.25)"
   ]
  },
  {
   "cell_type": "code",
   "execution_count": null,
   "metadata": {
    "ExecuteTime": {
     "end_time": "2018-09-09T19:34:10.959638Z",
     "start_time": "2018-09-09T19:34:10.707264Z"
    },
    "collapsed": true
   },
   "outputs": [],
   "source": [
    "visualizeBoundingBoxes(img2, boxes)"
   ]
  },
  {
   "cell_type": "markdown",
   "metadata": {},
   "source": [
    "### Synthesize sheet music from notehead detector"
   ]
  },
  {
   "cell_type": "code",
   "execution_count": 19,
   "metadata": {
    "ExecuteTime": {
     "end_time": "2018-09-11T23:22:58.186605Z",
     "start_time": "2018-09-11T23:22:58.159278Z"
    },
    "collapsed": true
   },
   "outputs": [],
   "source": [
    "def synthesizeSheetNotehead(img, boxes, lines, scale):\n",
    "    # Generate empty canvas\n",
    "    synthesized_image = np.zeros_like(img)\n",
    "    \n",
    "    # Add notehead\n",
    "    for box in boxes:\n",
    "        (x1,y1,x2,y2,cl) = box\n",
    "        x1 = int(x1/scale)\n",
    "        x2 = int(x2/scale)\n",
    "        y1 = int(y1/scale)\n",
    "        y2 = int(y2/scale)\n",
    "        synthesized_image = cv2.rectangle(synthesized_image, (x1,y1), (x2,y2), 255, -1)\n",
    "\n",
    "    return synthesized_image"
   ]
  },
  {
   "cell_type": "code",
   "execution_count": 20,
   "metadata": {
    "ExecuteTime": {
     "end_time": "2018-09-11T23:23:02.594444Z",
     "start_time": "2018-09-11T23:23:02.580717Z"
    },
    "collapsed": true
   },
   "outputs": [],
   "source": [
    "def convertNoteheadAll(strips, MODEL_STAFFHEIGHT=92):\n",
    "    output = []\n",
    "    staff_height = findMedianStaffHeight(strips)\n",
    "    for i in range(len(strips)):\n",
    "        lines = locateStaffLines(strips[i], min_height=60, max_height=len(strips[i])//4)\n",
    "        \n",
    "        scale = MODEL_STAFFHEIGHT/staff_height    \n",
    "        \n",
    "        \n",
    "        img = 255 - (255*strips[i]).astype('uint8')\n",
    "        img = zoom(img, scale).astype('uint8')\n",
    "        energy_map, class_map, bbox_map = generateFullpagePrediction(model, img)\n",
    "        \n",
    "        boxes, scores = inferBoundingBoxes(energy_map, class_map, bbox_map, threshold_binarization=4, \n",
    "                                   non_max_suppression_factor=0.25)\n",
    "        synth_sheet = synthesizeSheetNotehead(strips[i], boxes, lines, scale)\n",
    "        synth_sheet *= 1.0/synth_sheet.max()\n",
    "        output.append(synth_sheet)\n",
    "    return output"
   ]
  },
  {
   "cell_type": "code",
   "execution_count": null,
   "metadata": {
    "ExecuteTime": {
     "end_time": "2018-09-11T23:24:05.389618Z",
     "start_time": "2018-09-11T23:23:02.602879Z"
    },
    "collapsed": true
   },
   "outputs": [],
   "source": [
    "sheetNotehead = convertNoteheadAll(strips)"
   ]
  },
  {
   "cell_type": "code",
   "execution_count": null,
   "metadata": {
    "ExecuteTime": {
     "end_time": "2018-09-11T23:24:05.531831Z",
     "start_time": "2018-09-11T23:24:05.391146Z"
    },
    "collapsed": true
   },
   "outputs": [],
   "source": [
    "plt.imshow(sheetNotehead[0])"
   ]
  },
  {
   "cell_type": "markdown",
   "metadata": {},
   "source": [
    "### Synthesize sheet music from midi"
   ]
  },
  {
   "cell_type": "code",
   "execution_count": 21,
   "metadata": {
    "ExecuteTime": {
     "end_time": "2018-09-11T23:24:05.567591Z",
     "start_time": "2018-09-11T23:24:05.534085Z"
    },
    "collapsed": true
   },
   "outputs": [],
   "source": [
    "def getMidiNoteEvents(midifile, fs = 100):\n",
    "    mid = MidiFile(midifile)\n",
    "    tempo = 500000 # default microseconds per beat\n",
    "    curTimeSec = 0.0\n",
    "    allEvents = []\n",
    "    noteEvents = []\n",
    "    \n",
    "    for i, track in enumerate(mid.tracks):\n",
    "        events_temp = []\n",
    "        curTimeTick = 0\n",
    "        for msg in track:\n",
    "            curTimeTick += msg.time\n",
    "            if msg.type == 'set_tempo':\n",
    "                tempo = msg.tempo\n",
    "                events_temp.append(('tempo',curTimeTick, tempo))\n",
    "            if msg.type == 'note_on' and msg.velocity > 0:\n",
    "                events_temp.append(('note',curTimeTick, msg.note))\n",
    "            if msg.type == 'text' and '!!!END:' in msg.text: # ignore command messages that add time at end\n",
    "                break \n",
    "        allEvents = allEvents + events_temp\n",
    "    allEvents = sorted(allEvents, key=lambda x: x[1])\n",
    "        \n",
    "    # Convert accumulated time back to time difference\n",
    "    allEvents_diff = []\n",
    "    for i in range(len(allEvents)):\n",
    "        if i == 0:\n",
    "            allEvents_diff.append(allEvents[i])\n",
    "        else:\n",
    "            allEvents_diff.append((allEvents[i][0], allEvents[i][1]-allEvents[i-1][1], allEvents[i][2]))\n",
    "    \n",
    "    # Convert tick to second\n",
    "    for event in allEvents_diff:\n",
    "        curTimeSec += mido.tick2second(event[1], mid.ticks_per_beat, tempo)\n",
    "        if event[0] == 'tempo':\n",
    "            tempo = event[2]\n",
    "        else:\n",
    "            colIdx = np.int(np.round(curTimeSec * fs))\n",
    "            noteEvents.append((colIdx, event[2]))\n",
    "    return noteEvents"
   ]
  },
  {
   "cell_type": "code",
   "execution_count": 22,
   "metadata": {
    "ExecuteTime": {
     "end_time": "2018-09-11T23:24:05.672573Z",
     "start_time": "2018-09-11T23:24:05.570052Z"
    },
    "collapsed": true
   },
   "outputs": [],
   "source": [
    "def synthesizeSheetMusic(noteEvents, strip, zeroPad = 50):\n",
    "    \n",
    "    # analyze the strip\n",
    "    lines = locateStaffLines(strip, min_height=len(strip)//8, max_height=len(strip)//4)\n",
    "    breakpt = np.int(np.round(.5*(lines[4]+lines[5])))\n",
    "    upper = strip[0:breakpt,:]\n",
    "    lower = strip[breakpt:,:]\n",
    "    m1, b1 = estimateMidiNum2PixelRowMapping(upper, lines[0:5], 'right')\n",
    "    m2, b2 = estimateMidiNum2PixelRowMapping(lower, lines[5:10] - breakpt, 'left')\n",
    "    \n",
    "    # synthesis\n",
    "    impulses1 = generateNoteImpulses(noteEvents, upper, m1, b1)\n",
    "    impulses2 = generateNoteImpulses(noteEvents, lower, m2, b2)\n",
    "    impulses = mergeNoteImpulses(impulses1, impulses2, noteEvents)\n",
    "    timeAdjusted, timeMapping = adjustMidiTiming(impulses)\n",
    "    zeroPadded = zeroPadColumns(timeAdjusted, zeroPad, zeroPad)\n",
    "    filt2d = get2DFilter(np.mean([np.abs(m1),np.abs(m2)]))\n",
    "    blurred = convolve2d(zeroPadded, filt2d, 'same')\n",
    "    withLines = np.clip(blurred, 0, 1)\n",
    "    return withLines, timeMapping"
   ]
  },
  {
   "cell_type": "code",
   "execution_count": 23,
   "metadata": {
    "ExecuteTime": {
     "end_time": "2018-09-11T23:24:05.734264Z",
     "start_time": "2018-09-11T23:24:05.673956Z"
    },
    "collapsed": true
   },
   "outputs": [],
   "source": [
    "def generateNoteImpulses(noteEvents, strip, m, b):\n",
    "    synthLen = noteEvents[-1][0] + 1\n",
    "    impulses = np.zeros((strip.shape[0], synthLen))\n",
    "    for (timeIdx, midinum) in noteEvents:\n",
    "        row = estimatePixelRow(midinum, m, b)\n",
    "        if row >= 0 and row < strip.shape[0]:\n",
    "            impulses[row, timeIdx] = 1\n",
    "    return impulses"
   ]
  },
  {
   "cell_type": "code",
   "execution_count": 24,
   "metadata": {
    "ExecuteTime": {
     "end_time": "2018-09-11T23:24:05.837949Z",
     "start_time": "2018-09-11T23:24:05.737475Z"
    },
    "collapsed": true
   },
   "outputs": [],
   "source": [
    "def mergeNoteImpulses(impulses1, impulses2, noteEvents):\n",
    "    # This function double checks that whenever a note event occurs, at least one note shows up in the \n",
    "    # synthesized score (adding a redundant note if necessary).  This avoids the rare situation where a\n",
    "    # note event occurs but falls outside of both strips, which leads to midi synthesized scores having\n",
    "    # different lengths due to shortening of long pauses.\n",
    "    \n",
    "    merged = np.vstack((impulses1, impulses2))\n",
    "    csum = np.sum(merged, axis=0)\n",
    "    for (timeIdx, midiNote) in noteEvents:\n",
    "        if csum[timeIdx] == 0:\n",
    "            merged[0, timeIdx] = 1 # add redundant note\n",
    "    return merged"
   ]
  },
  {
   "cell_type": "code",
   "execution_count": 25,
   "metadata": {
    "ExecuteTime": {
     "end_time": "2018-09-11T23:24:05.973543Z",
     "start_time": "2018-09-11T23:24:05.839290Z"
    },
    "collapsed": true
   },
   "outputs": [],
   "source": [
    "def adjustMidiTiming(noteImpulses, maxPauseLen = 50):\n",
    "    \n",
    "    # identify long pauses where no onsets occur\n",
    "    csums = np.sum(noteImpulses, axis=0)   \n",
    "    dataToInsert = [] # either the index of the column to insert, or -1 for a column of zeros\n",
    "    isPause = False\n",
    "    markerStart = 0\n",
    "    for i in range(len(csums)):\n",
    "        if isPause:\n",
    "            if csums[i] != 0 or i == len(csums) - 1: # in a pause, notes occur\n",
    "                pauseLen = i - markerStart\n",
    "                if pauseLen > maxPauseLen:\n",
    "                    dataToInsert.extend([-1] * maxPauseLen)\n",
    "                else:\n",
    "                    dataToInsert.extend([-1] * pauseLen)\n",
    "                dataToInsert.append(i)\n",
    "                isPause = False\n",
    "            else: # in a pause, no notes occur\n",
    "                pass\n",
    "        else:\n",
    "            if csums[i] != 0: # not a pause, notes occur\n",
    "                dataToInsert.append(i)\n",
    "            else: # not a pause, no notes occur\n",
    "                isPause = True\n",
    "                markerStart = i\n",
    "    \n",
    "    # reconstruct onset data\n",
    "    adjusted = np.zeros((noteImpulses.shape[0],len(dataToInsert)))\n",
    "    for i, col in enumerate(dataToInsert):\n",
    "        if col == -1:\n",
    "            pass # leave as zeros\n",
    "        else:\n",
    "            adjusted[:,i] = noteImpulses[:,col]\n",
    "    return adjusted, dataToInsert"
   ]
  },
  {
   "cell_type": "code",
   "execution_count": 26,
   "metadata": {
    "ExecuteTime": {
     "end_time": "2018-09-11T23:24:06.048725Z",
     "start_time": "2018-09-11T23:24:05.974917Z"
    },
    "collapsed": true
   },
   "outputs": [],
   "source": [
    "def get2DFilter(m):\n",
    "    filt_sz = np.int(np.round(np.abs(m) * 4))\n",
    "    filt2d = getBlurFilter(filt_sz, 'block')\n",
    "    return filt2d"
   ]
  },
  {
   "cell_type": "code",
   "execution_count": 28,
   "metadata": {
    "ExecuteTime": {
     "end_time": "2018-09-11T23:24:06.112273Z",
     "start_time": "2018-09-11T23:24:06.051562Z"
    },
    "collapsed": true
   },
   "outputs": [],
   "source": [
    "def getBlurFilter(sz, filterType):\n",
    "    if filterType == 'hamming':\n",
    "        filt = np.matmul(np.hamming(sz).reshape((sz,1)), np.hamming(sz).reshape(1,sz))\n",
    "    elif filterType == 'circle':\n",
    "        filt = np.zeros((sz,sz))\n",
    "        center = sz/2\n",
    "        for i in range(sz):\n",
    "            for j in range(sz):\n",
    "                if np.sqrt((i-center)*(i-center)+(j-center)*(j-center)) <= center - .01:\n",
    "                    filt[i,j] = 1\n",
    "    elif filterType == 'block':\n",
    "        filt = np.ones((np.int(1.2*sz),np.int(1.125*sz)))\n",
    "    else:\n",
    "        print('Unrecognized filter type: %s' % filterType)\n",
    "        sys.exit(1)\n",
    "    return filt"
   ]
  },
  {
   "cell_type": "code",
   "execution_count": 29,
   "metadata": {
    "ExecuteTime": {
     "end_time": "2018-09-11T23:24:06.199138Z",
     "start_time": "2018-09-11T23:24:06.113871Z"
    },
    "collapsed": true
   },
   "outputs": [],
   "source": [
    "def zeroPadColumns(X, nBefore, nAfter):\n",
    "    h = X.shape[0]\n",
    "    Y = np.hstack((np.zeros((h,nBefore)), X, np.zeros((h,nAfter))))\n",
    "    return Y"
   ]
  },
  {
   "cell_type": "code",
   "execution_count": null,
   "metadata": {
    "collapsed": true
   },
   "outputs": [],
   "source": [
    "midiFile = 'midi/mendelssohn_op62no3.mid'\n",
    "noteEvents = getMidiNoteEvents(midiFile)\n",
    "midiSynth, _ = synthesizeSheetMusic(noteEvents, s)"
   ]
  },
  {
   "cell_type": "code",
   "execution_count": null,
   "metadata": {
    "collapsed": true
   },
   "outputs": [],
   "source": [
    "showImage(midiSynth[:,0:1000])"
   ]
  },
  {
   "cell_type": "markdown",
   "metadata": {},
   "source": [
    "### Align sequence of strips"
   ]
  },
  {
   "cell_type": "code",
   "execution_count": 30,
   "metadata": {
    "collapsed": true
   },
   "outputs": [],
   "source": [
    "def downsampleImage(strip, ratio):\n",
    "    return np.array([[x[i] for i in range(len(x)) if i%ratio == 0] for x in strip])"
   ]
  },
  {
   "cell_type": "code",
   "execution_count": 42,
   "metadata": {
    "ExecuteTime": {
     "end_time": "2018-09-11T23:24:07.171101Z",
     "start_time": "2018-09-11T23:24:07.029950Z"
    },
    "collapsed": true
   },
   "outputs": [],
   "source": [
    "def alignStripSequence(score, strips, sheetNotehead, midiFile, zeroPad = 50):\n",
    "    \n",
    "    # find optimal fs\n",
    "    fs = 100.0\n",
    "    noteEvents = getMidiNoteEvents(midiFile, fs)\n",
    "    strips = [downsampleImage(s, 3) for s in strips]\n",
    "    sheetNotehead = [downsampleImage(s, 3) for s in sheetNotehead]\n",
    "    striplen = np.sum([s.shape[1] for s in strips])\n",
    "    fs = np.int(fs * striplen / noteEvents[-1][0]) # adjust to get equal lengths\n",
    "    noteEvents = getMidiNoteEvents(midiFile, fs)\n",
    "    \n",
    "    # fill in cost matrix block by block\n",
    "    Cblocks = []\n",
    "    midiSynths = []\n",
    "        \n",
    "    for i in range(len(strips)):\n",
    "        \n",
    "        midiSynth, timeMapping = synthesizeSheetMusic(noteEvents, s, zeroPad)\n",
    "        costBlock = -1.0 * np.matmul(s.T, midiSynth)\n",
    "        Cblocks.append(costBlock)\n",
    "        midiSynths.append(midiSynth)\n",
    "        \n",
    "    C = np.vstack(Cblocks)\n",
    "        \n",
    "    # DTW\n",
    "    steps = np.array([1,1,1,2,2,1]).reshape((-1,2))\n",
    "    weights = np.array([2,3,3])\n",
    "    D, wp = librosa.core.dtw(C=C, step_sizes_sigma=steps, weights_mul=weights)\n",
    "    \n",
    "    return wp[::-1,:], midiSynths, strips, timeMapping, fs"
   ]
  },
  {
   "cell_type": "code",
   "execution_count": 32,
   "metadata": {
    "ExecuteTime": {
     "end_time": "2018-09-11T23:24:07.321731Z",
     "start_time": "2018-09-11T23:24:07.173030Z"
    },
    "collapsed": true
   },
   "outputs": [],
   "source": [
    "def visualizeAlignedSequences(strips, midiSynths, wp, scoreFile = None, midiFile = None):\n",
    "    \n",
    "    # generate panorama of sheet music strips \n",
    "    maxH = np.max([s.shape[0] for s in strips])\n",
    "    pan1 = np.zeros((maxH, wp.shape[0]))\n",
    "    cumStripLens = np.cumsum([0] + [s.shape[1] for s in strips])\n",
    "    col2strip = [i for i, s in enumerate(strips) for j in range(s.shape[1])] # column index -> strip index\n",
    "    for i in range(wp.shape[0]):\n",
    "        globalIdx = wp[i,0]\n",
    "        stripIdx = col2strip[globalIdx]\n",
    "        h = strips[stripIdx].shape[0]\n",
    "        localIdx = globalIdx - cumStripLens[stripIdx]\n",
    "        pan1[0:h,i] = strips[stripIdx][:, localIdx] /255\n",
    "        \n",
    "    # generate panorama for midi synthesis\n",
    "    pan2 = np.zeros((maxH, wp.shape[0]))\n",
    "    for i in range(wp.shape[0]):\n",
    "        sheetColIdx = wp[i,0]\n",
    "        midiColIdx = wp[i,1]\n",
    "        stripIdx = col2strip[sheetColIdx]\n",
    "        h = strips[stripIdx].shape[0]\n",
    "        pan2[0:h, i] = midiSynths[stripIdx][:,midiColIdx]\n",
    "    \n",
    "    stacked = np.vstack((pan1, pan2))\n",
    "    \n",
    "    # overlay score beat annotations\n",
    "    if scoreFile:\n",
    "        with open('gt.pkl', 'rb') as f: # e.g. op68no3_v3\n",
    "            d = pickle.load(f) \n",
    "        scoreRefBeats = d[scoreFile]\n",
    "        xcoords = np.interp(scoreRefBeats, wp[:,0], range(wp.shape[0]))\n",
    "        for x in xcoords:\n",
    "            if not np.isnan(x):\n",
    "                stacked[0:maxH,np.int(np.round(x))] = .5\n",
    "    \n",
    "    # overlay midi beat annotations\n",
    "    if midiFile:\n",
    "        with open('gt.pkl', 'rb') as f: # e.g. midi/op68no3/pid1263b-19-avgtapsd0.mid\n",
    "            d = pickle.load(f) \n",
    "        basename = os.path.splitext(os.path.basename(midiFile))[0]\n",
    "        midiID = '%s--%s' % (scoreFile, basename)\n",
    "        midiRefBeats = d[midiID]\n",
    "        print(midiRefBeats)\n",
    "        xcoords = np.interp(midiRefBeats, wp[:,1], range(wp.shape[0]))\n",
    "        for x in xcoords:\n",
    "            if not np.isnan(x):\n",
    "                stacked[maxH:,np.int(np.round(x))] = .5\n",
    "    \n",
    "    return stacked"
   ]
  },
  {
   "cell_type": "code",
   "execution_count": null,
   "metadata": {
    "ExecuteTime": {
     "end_time": "2018-09-11T23:24:16.525475Z",
     "start_time": "2018-09-11T23:24:07.323307Z"
    },
    "collapsed": true
   },
   "outputs": [],
   "source": [
    "wp, midiSynths, strips_, _, _ = alignStripSequence(strips, sheetNotehead, midiFile)"
   ]
  },
  {
   "cell_type": "code",
   "execution_count": null,
   "metadata": {
    "ExecuteTime": {
     "end_time": "2018-09-11T23:24:16.698518Z",
     "start_time": "2018-09-11T23:24:16.655780Z"
    },
    "collapsed": true
   },
   "outputs": [],
   "source": [
    "stacked = visualizeAlignedSequences(strips, midiSynths, wp)"
   ]
  },
  {
   "cell_type": "code",
   "execution_count": null,
   "metadata": {
    "ExecuteTime": {
     "end_time": "2018-09-11T23:24:16.968533Z",
     "start_time": "2018-09-11T23:24:16.700174Z"
    },
    "collapsed": true
   },
   "outputs": [],
   "source": [
    "start = 3000\n",
    "end = start+2000\n",
    "showImage(stacked[:,start:end])\n",
    "plt.axis('off')"
   ]
  },
  {
   "cell_type": "code",
   "execution_count": 33,
   "metadata": {
    "ExecuteTime": {
     "end_time": "2018-09-11T23:24:17.032943Z",
     "start_time": "2018-09-11T23:24:16.974387Z"
    },
    "collapsed": true
   },
   "outputs": [],
   "source": [
    "import gc"
   ]
  },
  {
   "cell_type": "markdown",
   "metadata": {},
   "source": [
    "### Align all midi-sheet pairs"
   ]
  },
  {
   "cell_type": "code",
   "execution_count": 43,
   "metadata": {
    "ExecuteTime": {
     "end_time": "2018-09-11T23:24:47.321930Z",
     "start_time": "2018-09-11T23:24:17.034678Z"
    },
    "collapsed": false,
    "scrolled": true
   },
   "outputs": [
    {
     "data": {
      "application/vnd.jupyter.widget-view+json": {
       "model_id": "bdba2e15f74349a68e968bf91b447315",
       "version_major": 2,
       "version_minor": 0
      },
      "text/html": [
       "<p>Failed to display Jupyter Widget of type <code>HBox</code>.</p>\n",
       "<p>\n",
       "  If you're reading this message in the Jupyter Notebook or JupyterLab Notebook, it may mean\n",
       "  that the widgets JavaScript is still loading. If this message persists, it\n",
       "  likely means that the widgets JavaScript library is either not installed or\n",
       "  not enabled. See the <a href=\"https://ipywidgets.readthedocs.io/en/stable/user_install.html\">Jupyter\n",
       "  Widgets Documentation</a> for setup instructions.\n",
       "</p>\n",
       "<p>\n",
       "  If you're reading this message in another frontend (for example, a static\n",
       "  rendering on GitHub or <a href=\"https://nbviewer.jupyter.org/\">NBViewer</a>),\n",
       "  it may mean that your frontend doesn't currently support widgets.\n",
       "</p>\n"
      ],
      "text/plain": [
       "HBox(children=(IntProgress(value=0, max=22), HTML(value='')))"
      ]
     },
     "metadata": {},
     "output_type": "display_data"
    },
    {
     "name": "stdout",
     "output_type": "stream",
     "text": [
      "schubert_op90no3\n",
      "Already aligned!\n",
      "Processed 1 of 1, schubert_op90no3_v1\n",
      "Already aligned!\n",
      "Processed 1 of 1, schubert_op90no3_v2\n",
      "mendelssohn_op19no2\n",
      "Already aligned!\n",
      "Processed 1 of 1, mendelssohn_op19no2_v1\n",
      "Already aligned!\n",
      "Processed 1 of 1, mendelssohn_op19no2_v2\n",
      "Already aligned!\n",
      "Processed 1 of 1, mendelssohn_op19no2_v3\n",
      "Already aligned!\n",
      "Processed 1 of 1, mendelssohn_op19no2_v4\n",
      "Already aligned!\n",
      "Processed 1 of 1, mendelssohn_op19no2_v5\n",
      "schubert_op94no2\n",
      "Already aligned!\n",
      "Processed 1 of 1, schubert_op94no2_v1\n",
      "Already aligned!\n",
      "Processed 1 of 1, schubert_op94no2_v2\n",
      "clementi_op36no3mv3\n",
      "Already aligned!\n",
      "Processed 1 of 1, clementi_op36no3mv3_v1\n",
      "Already aligned!\n",
      "Processed 1 of 1, clementi_op36no3mv3_v2\n",
      "debussy_childrencorner6\n",
      "Already aligned!\n",
      "Processed 1 of 1, debussy_childrencorner6_v1\n",
      "Already aligned!\n",
      "Processed 1 of 1, debussy_childrencorner6_v2\n",
      "Already aligned!\n",
      "Processed 1 of 1, debussy_childrencorner6_v3\n",
      "debussy_childrencorner1\n",
      "Already aligned!\n",
      "Processed 1 of 1, debussy_childrencorner1_v1\n",
      "Already aligned!\n",
      "Processed 1 of 1, debussy_childrencorner1_v2\n",
      "Already aligned!\n",
      "Processed 1 of 1, debussy_childrencorner1_v3\n",
      "mendelssohn_op62no5\n",
      "Already aligned!\n",
      "Processed 1 of 1, mendelssohn_op62no5_v1\n",
      "Already aligned!\n",
      "Processed 1 of 1, mendelssohn_op62no5_v2\n",
      "Already aligned!\n",
      "Processed 1 of 1, mendelssohn_op62no5_v3\n",
      "mozart_kv311mv3\n",
      "Already aligned!\n",
      "Processed 1 of 1, mozart_kv311mv3_v1\n",
      "Already aligned!\n",
      "Processed 1 of 1, mozart_kv311mv3_v2\n",
      "Already aligned!\n",
      "Processed 1 of 1, mozart_kv311mv3_v3\n",
      "brahms_op117no2\n",
      "Already aligned!\n",
      "Processed 1 of 1, brahms_op117no2_v1\n",
      "Already aligned!\n",
      "Processed 1 of 1, brahms_op117no2_v2\n",
      "Already aligned!\n",
      "Processed 1 of 1, brahms_op117no2_v3\n",
      "Already aligned!\n",
      "Processed 1 of 1, brahms_op117no2_v4\n",
      "debussy_childrencorner3\n",
      "Already aligned!\n",
      "Processed 1 of 1, debussy_childrencorner3_v1\n",
      "Already aligned!\n",
      "Processed 1 of 1, debussy_childrencorner3_v2\n",
      "Already aligned!\n",
      "Processed 1 of 1, debussy_childrencorner3_v3\n",
      "brahms_op116no6\n",
      "Already aligned!\n",
      "Processed 1 of 1, brahms_op116no6_v1\n",
      "Already aligned!\n",
      "Processed 1 of 1, brahms_op116no6_v2\n",
      "tchaikovsky_season06\n",
      "Already aligned!\n",
      "Processed 1 of 1, tchaikovsky_season06_v1\n",
      "Already aligned!\n",
      "Processed 1 of 1, tchaikovsky_season06_v2\n",
      "mozart_kv333mv3\n",
      "Already aligned!\n",
      "Processed 1 of 1, mozart_kv333mv3_v1\n",
      "Already aligned!\n",
      "Processed 1 of 1, mozart_kv333mv3_v2\n",
      "Already aligned!\n",
      "Processed 1 of 1, mozart_kv333mv3_v3\n",
      "Already aligned!\n",
      "Processed 1 of 1, mozart_kv333mv3_v4\n",
      "schubert_op90no1\n",
      "/home/mint/ttemp/SheetMidiSync_Baseline_backup/nhd_sheet(dwd-re20000)/schubert_op90no1_v1.pkl\n",
      "Finished strip 0\n"
     ]
    },
    {
     "name": "stderr",
     "output_type": "stream",
     "text": [
      "/home/mint/anaconda3/lib/python3.6/site-packages/scipy/ndimage/interpolation.py:616: UserWarning: From scipy 0.13.0, the output shape of zoom() is calculated with round() instead of int() - for these inputs the size of the returned array has changed.\n",
      "  \"the returned array has changed.\", UserWarning)\n"
     ]
    },
    {
     "name": "stdout",
     "output_type": "stream",
     "text": [
      "Finished strip 1\n",
      "Finished strip 2\n",
      "Finished strip 3\n",
      "Finished strip 4\n",
      "Finished strip 5\n",
      "Finished strip 6\n",
      "Finished strip 7\n",
      "Finished strip 8\n",
      "Finished strip 9\n",
      "Finished strip 10\n",
      "Finished strip 11\n",
      "Finished strip 12\n",
      "Finished strip 13\n",
      "Finished strip 14\n",
      "Finished strip 15\n",
      "Finished strip 16\n",
      "Finished strip 17\n",
      "Finished strip 18\n",
      "Finished strip 19\n",
      "Finished strip 20\n",
      "Finished strip 21\n",
      "Finished strip 22\n",
      "Finished strip 23\n",
      "Finished strip 24\n",
      "Finished strip 25\n",
      "Finished strip 26\n",
      "Finished strip 27\n",
      "Finished strip 28\n",
      "Finished strip 29\n",
      "Finished strip 30\n",
      "Finished strip 31\n",
      "Finished strip 32\n",
      "Finished strip 33\n",
      "Finished strip 34\n",
      "Finished strip 35\n",
      "Finished strip 36\n",
      "Finished strip 37\n",
      "Finished strip 38\n",
      "Finished strip 39\n",
      "Finished strip 40\n",
      "Processed 1 of 1, schubert_op90no1_v1\n",
      "/home/mint/ttemp/SheetMidiSync_Baseline_backup/nhd_sheet(dwd-re20000)/schubert_op90no1_v2.pkl\n"
     ]
    },
    {
     "name": "stderr",
     "output_type": "stream",
     "text": [
      "/home/mint/anaconda3/lib/python3.6/site-packages/scipy/ndimage/interpolation.py:616: UserWarning: From scipy 0.13.0, the output shape of zoom() is calculated with round() instead of int() - for these inputs the size of the returned array has changed.\n",
      "  \"the returned array has changed.\", UserWarning)\n"
     ]
    },
    {
     "name": "stdout",
     "output_type": "stream",
     "text": [
      "Finished strip 0\n",
      "Finished strip 1\n",
      "Finished strip 2\n",
      "Finished strip 3\n",
      "Finished strip 4\n",
      "Finished strip 5\n",
      "Finished strip 6\n",
      "Finished strip 7\n",
      "Finished strip 8\n",
      "Finished strip 9\n",
      "Finished strip 10\n",
      "Finished strip 11\n",
      "Finished strip 12\n",
      "Finished strip 13\n",
      "Finished strip 14\n",
      "Finished strip 15\n",
      "Finished strip 16\n",
      "Finished strip 17\n",
      "Finished strip 19\n",
      "Finished strip 20\n",
      "Finished strip 21\n",
      "Finished strip 22\n",
      "Finished strip 23\n",
      "Finished strip 24\n",
      "Finished strip 25\n",
      "Finished strip 26\n",
      "Finished strip 27\n",
      "Finished strip 28\n",
      "Finished strip 29\n",
      "Finished strip 30\n",
      "Finished strip 31\n",
      "Finished strip 32\n",
      "Finished strip 33\n",
      "Finished strip 34\n",
      "Finished strip 35\n",
      "Finished strip 36\n",
      "Finished strip 37\n",
      "Finished strip 38\n",
      "Finished strip 39\n",
      "Finished strip 40\n",
      "Finished strip 41\n",
      "Finished strip 42\n",
      "Finished strip 43\n",
      "Finished strip 44\n",
      "Finished strip 45\n",
      "Finished strip 46\n",
      "Finished strip 47\n",
      "Finished strip 48\n",
      "Finished strip 49\n",
      "Finished strip 50\n",
      "Finished strip 51\n",
      "Finished strip 52\n",
      "Finished strip 53\n",
      "Finished strip 54\n",
      "Finished strip 55\n",
      "Finished strip 56\n",
      "Finished strip 57\n",
      "Finished strip 58\n",
      "Finished strip 59\n",
      "Processed 1 of 1, schubert_op90no1_v2\n",
      "clementi_op36no2mv3\n",
      "/home/mint/ttemp/SheetMidiSync_Baseline_backup/nhd_sheet(dwd-re20000)/clementi_op36no2mv3_v1.pkl\n",
      "Finished strip 0\n",
      "Finished strip 1\n",
      "Finished strip 2\n",
      "Finished strip 3\n",
      "Finished strip 4\n",
      "Finished strip 5\n",
      "Finished strip 6\n",
      "Finished strip 7\n",
      "Finished strip 8\n",
      "Finished strip 9\n",
      "Finished strip 10\n",
      "Finished strip 11\n",
      "Finished strip 12\n",
      "Finished strip 13\n",
      "Processed 1 of 1, clementi_op36no2mv3_v1\n",
      "/home/mint/ttemp/SheetMidiSync_Baseline_backup/nhd_sheet(dwd-re20000)/clementi_op36no2mv3_v2.pkl\n",
      "Finished strip 0\n",
      "Finished strip 1\n",
      "Finished strip 2\n",
      "Finished strip 3\n",
      "Finished strip 4\n",
      "Finished strip 5\n",
      "Finished strip 6\n",
      "Finished strip 7\n",
      "Finished strip 8\n",
      "Finished strip 9\n",
      "Finished strip 10\n",
      "Finished strip 11\n",
      "Finished strip 12\n",
      "Finished strip 13\n",
      "Processed 1 of 1, clementi_op36no2mv3_v2\n",
      "tchaikovsky_season08\n",
      "/home/mint/ttemp/SheetMidiSync_Baseline_backup/nhd_sheet(dwd-re20000)/tchaikovsky_season08_v1.pkl\n",
      "Finished strip 0\n",
      "Finished strip 1\n",
      "Finished strip 2\n",
      "Finished strip 3\n",
      "Finished strip 4\n",
      "Finished strip 5\n",
      "Finished strip 6\n",
      "Finished strip 7\n",
      "Finished strip 8\n",
      "Finished strip 9\n",
      "Finished strip 10\n",
      "Finished strip 11\n",
      "Finished strip 12\n",
      "Finished strip 13\n",
      "Finished strip 14\n",
      "Finished strip 15\n",
      "Finished strip 16\n",
      "Finished strip 17\n",
      "Finished strip 18\n",
      "Finished strip 19\n",
      "Finished strip 20\n",
      "Finished strip 21\n",
      "Finished strip 22\n",
      "Finished strip 23\n",
      "Finished strip 24\n",
      "Finished strip 25\n",
      "Finished strip 26\n",
      "Finished strip 27\n",
      "Finished strip 28\n",
      "Finished strip 29\n",
      "Finished strip 30\n",
      "Finished strip 31\n",
      "Finished strip 32\n",
      "Finished strip 33\n",
      "Finished strip 34\n",
      "Finished strip 35\n",
      "Finished strip 36\n",
      "Finished strip 37\n",
      "Processed 1 of 1, tchaikovsky_season08_v1\n",
      "/home/mint/ttemp/SheetMidiSync_Baseline_backup/nhd_sheet(dwd-re20000)/tchaikovsky_season08_v2.pkl\n",
      "Finished strip 0\n",
      "Finished strip 1\n",
      "Finished strip 2\n",
      "Finished strip 3\n",
      "Finished strip 4\n",
      "Finished strip 5\n",
      "Finished strip 6\n",
      "Finished strip 7\n",
      "Finished strip 8\n",
      "Finished strip 9\n",
      "Finished strip 10\n",
      "Finished strip 11\n",
      "Finished strip 12\n",
      "Finished strip 13\n",
      "Finished strip 14\n",
      "Finished strip 15\n",
      "Finished strip 16\n",
      "Finished strip 17\n",
      "Finished strip 18\n",
      "Finished strip 19\n",
      "Finished strip 20\n",
      "Finished strip 21\n",
      "Finished strip 22\n",
      "Finished strip 23\n",
      "Finished strip 24\n",
      "Finished strip 25\n",
      "Finished strip 26\n",
      "Finished strip 27\n",
      "Finished strip 28\n",
      "Finished strip 29\n",
      "Finished strip 30\n",
      "Finished strip 31\n",
      "Finished strip 32\n",
      "Finished strip 33\n",
      "Finished strip 34\n",
      "Finished strip 35\n",
      "Finished strip 36\n",
      "Finished strip 37\n",
      "Finished strip 38\n",
      "Finished strip 39\n",
      "Processed 1 of 1, tchaikovsky_season08_v2\n",
      "chopin_op63no3\n",
      "/home/mint/ttemp/SheetMidiSync_Baseline_backup/nhd_sheet(dwd-re20000)/chopin_op63no3_v1.pkl\n",
      "Finished strip 0\n",
      "Finished strip 1\n",
      "Finished strip 2\n",
      "Finished strip 3\n",
      "Finished strip 4\n",
      "Finished strip 5\n",
      "Finished strip 6\n",
      "Finished strip 7\n",
      "Finished strip 8\n",
      "Finished strip 9\n",
      "Finished strip 10\n",
      "Finished strip 11\n",
      "Processed 1 of 1, chopin_op63no3_v1\n",
      "/home/mint/ttemp/SheetMidiSync_Baseline_backup/nhd_sheet(dwd-re20000)/chopin_op63no3_v2.pkl\n",
      "Finished strip 0\n",
      "Finished strip 1\n",
      "Finished strip 2\n",
      "Finished strip 3\n",
      "Finished strip 4\n",
      "Finished strip 5\n",
      "Finished strip 6\n",
      "Finished strip 7\n",
      "Finished strip 8\n",
      "Finished strip 9\n",
      "Finished strip 10\n",
      "Finished strip 11\n",
      "Processed 1 of 1, chopin_op63no3_v2\n",
      "/home/mint/ttemp/SheetMidiSync_Baseline_backup/nhd_sheet(dwd-re20000)/chopin_op63no3_v3.pkl\n",
      "Finished strip 0\n",
      "Finished strip 1\n",
      "Finished strip 2\n",
      "Finished strip 3\n",
      "Finished strip 4\n",
      "Finished strip 5\n",
      "Finished strip 6\n",
      "Finished strip 7\n",
      "Finished strip 8\n",
      "Finished strip 9\n",
      "Finished strip 10\n",
      "Finished strip 11\n",
      "Processed 1 of 1, chopin_op63no3_v3\n",
      "/home/mint/ttemp/SheetMidiSync_Baseline_backup/nhd_sheet(dwd-re20000)/chopin_op63no3_v4.pkl\n",
      "Finished strip 0\n",
      "Finished strip 1\n",
      "Finished strip 2\n",
      "Finished strip 3\n",
      "Finished strip 4\n",
      "Finished strip 5\n",
      "Finished strip 6\n",
      "Finished strip 7\n",
      "Finished strip 8\n",
      "Finished strip 9\n",
      "Finished strip 10\n",
      "Finished strip 11\n",
      "Processed 1 of 1, chopin_op63no3_v4\n",
      "/home/mint/ttemp/SheetMidiSync_Baseline_backup/nhd_sheet(dwd-re20000)/chopin_op63no3_v5.pkl\n",
      "Finished strip 0\n",
      "Finished strip 1\n",
      "Finished strip 2\n",
      "Finished strip 3\n",
      "Finished strip 4\n",
      "Finished strip 5\n",
      "Finished strip 6\n",
      "Finished strip 7\n",
      "Finished strip 8\n",
      "Finished strip 9\n",
      "Processed 1 of 1, chopin_op63no3_v5\n",
      "/home/mint/ttemp/SheetMidiSync_Baseline_backup/nhd_sheet(dwd-re20000)/chopin_op63no3_v6.pkl\n",
      "Finished strip 0\n",
      "Finished strip 1\n",
      "Finished strip 2\n",
      "Finished strip 3\n",
      "Finished strip 4\n",
      "Finished strip 5\n",
      "Finished strip 6\n",
      "Finished strip 7\n",
      "Finished strip 8\n",
      "Finished strip 9\n",
      "Finished strip 10\n",
      "Processed 1 of 1, chopin_op63no3_v6\n",
      "chopin_op68no3\n",
      "/home/mint/ttemp/SheetMidiSync_Baseline_backup/nhd_sheet(dwd-re20000)/chopin_op68no3_v1.pkl\n",
      "Finished strip 0\n",
      "Finished strip 1\n",
      "Finished strip 2\n",
      "Finished strip 3\n",
      "Finished strip 4\n",
      "Finished strip 5\n",
      "Finished strip 6\n",
      "Finished strip 7\n",
      "Finished strip 8\n",
      "Finished strip 9\n",
      "Finished strip 10\n",
      "Finished strip 11\n",
      "Processed 1 of 1, chopin_op68no3_v1\n",
      "/home/mint/ttemp/SheetMidiSync_Baseline_backup/nhd_sheet(dwd-re20000)/chopin_op68no3_v2.pkl\n",
      "Finished strip 0\n",
      "Finished strip 1\n",
      "Finished strip 2\n",
      "Finished strip 3\n",
      "Finished strip 4\n",
      "Finished strip 5\n",
      "Finished strip 6\n",
      "Finished strip 7\n",
      "Finished strip 8\n",
      "Finished strip 9\n",
      "Finished strip 10\n",
      "Finished strip 11\n",
      "Processed 1 of 1, chopin_op68no3_v2\n",
      "/home/mint/ttemp/SheetMidiSync_Baseline_backup/nhd_sheet(dwd-re20000)/chopin_op68no3_v3.pkl\n",
      "Finished strip 0\n",
      "Finished strip 1\n",
      "Finished strip 2\n",
      "Finished strip 3\n",
      "Finished strip 4\n",
      "Finished strip 5\n",
      "Finished strip 6\n",
      "Finished strip 7\n",
      "Finished strip 8\n",
      "Finished strip 9\n",
      "Processed 1 of 1, chopin_op68no3_v3\n",
      "/home/mint/ttemp/SheetMidiSync_Baseline_backup/nhd_sheet(dwd-re20000)/chopin_op68no3_v4.pkl\n",
      "Finished strip 0\n",
      "Finished strip 1\n",
      "Finished strip 2\n",
      "Finished strip 3\n",
      "Finished strip 4\n",
      "Finished strip 5\n",
      "Finished strip 6\n",
      "Finished strip 7\n",
      "Finished strip 8\n",
      "Finished strip 9\n",
      "Processed 1 of 1, chopin_op68no3_v4\n",
      "/home/mint/ttemp/SheetMidiSync_Baseline_backup/nhd_sheet(dwd-re20000)/chopin_op68no3_v5.pkl\n",
      "Finished strip 0\n",
      "Finished strip 1\n",
      "Finished strip 2\n",
      "Finished strip 3\n",
      "Finished strip 4\n",
      "Finished strip 5\n",
      "Finished strip 6\n",
      "Finished strip 7\n",
      "Processed 1 of 1, chopin_op68no3_v5\n",
      "/home/mint/ttemp/SheetMidiSync_Baseline_backup/nhd_sheet(dwd-re20000)/chopin_op68no3_v6.pkl\n",
      "Finished strip 0\n",
      "Finished strip 1\n",
      "Finished strip 2\n",
      "Finished strip 3\n",
      "Finished strip 4\n",
      "Finished strip 5\n",
      "Finished strip 6\n",
      "Finished strip 7\n",
      "Finished strip 8\n",
      "Finished strip 9\n",
      "Finished strip 10\n",
      "Finished strip 11\n",
      "Processed 1 of 1, chopin_op68no3_v6\n",
      "tchaikovsky_season01\n",
      "/home/mint/ttemp/SheetMidiSync_Baseline_backup/nhd_sheet(dwd-re20000)/tchaikovsky_season01_v1.pkl\n",
      "Finished strip 0\n",
      "Finished strip 1\n",
      "Finished strip 2\n",
      "Finished strip 3\n",
      "Finished strip 4\n",
      "Finished strip 5\n",
      "Finished strip 6\n",
      "Finished strip 7\n",
      "Finished strip 8\n",
      "Finished strip 9\n",
      "Finished strip 10\n",
      "Finished strip 11\n",
      "Finished strip 12\n",
      "Finished strip 13\n",
      "Finished strip 14\n",
      "Finished strip 15\n",
      "Finished strip 16\n",
      "Finished strip 17\n",
      "Finished strip 18\n",
      "Finished strip 19\n",
      "Finished strip 20\n",
      "Finished strip 21\n",
      "Finished strip 22\n",
      "Finished strip 23\n",
      "Finished strip 24\n",
      "Finished strip 25\n",
      "Finished strip 26\n",
      "Finished strip 27\n",
      "Finished strip 28\n",
      "Processed 1 of 1, tchaikovsky_season01_v1\n",
      "chopin_op30no2\n",
      "/home/mint/ttemp/SheetMidiSync_Baseline_backup/nhd_sheet(dwd-re20000)/chopin_op30no2_v1.pkl\n",
      "Finished strip 0\n",
      "Finished strip 1\n",
      "Finished strip 2\n",
      "Finished strip 3\n",
      "Finished strip 4\n",
      "Finished strip 5\n",
      "Finished strip 6\n",
      "Finished strip 7\n",
      "Finished strip 8\n",
      "Finished strip 9\n",
      "Finished strip 10\n",
      "Finished strip 11\n",
      "Processed 1 of 1, chopin_op30no2_v1\n",
      "/home/mint/ttemp/SheetMidiSync_Baseline_backup/nhd_sheet(dwd-re20000)/chopin_op30no2_v2.pkl\n",
      "Finished strip 0\n",
      "Finished strip 1\n",
      "Finished strip 2\n",
      "Finished strip 3\n",
      "Finished strip 4\n",
      "Finished strip 5\n",
      "Finished strip 6\n",
      "Finished strip 7\n",
      "Finished strip 8\n",
      "Finished strip 9\n",
      "Finished strip 10\n",
      "Finished strip 11\n",
      "Processed 1 of 1, chopin_op30no2_v2\n",
      "/home/mint/ttemp/SheetMidiSync_Baseline_backup/nhd_sheet(dwd-re20000)/chopin_op30no2_v3.pkl\n",
      "Finished strip 0\n",
      "Finished strip 1\n",
      "Finished strip 2\n",
      "Finished strip 3\n",
      "Finished strip 4\n",
      "Finished strip 5\n",
      "Finished strip 6\n",
      "Finished strip 7\n",
      "Finished strip 8\n",
      "Finished strip 9\n",
      "Processed 1 of 1, chopin_op30no2_v3\n",
      "/home/mint/ttemp/SheetMidiSync_Baseline_backup/nhd_sheet(dwd-re20000)/chopin_op30no2_v4.pkl\n",
      "Finished strip 0\n",
      "Finished strip 1\n",
      "Finished strip 2\n",
      "Finished strip 3\n",
      "Finished strip 4\n",
      "Finished strip 5\n",
      "Finished strip 6\n",
      "Finished strip 7\n",
      "Finished strip 8\n",
      "Processed 1 of 1, chopin_op30no2_v4\n",
      "/home/mint/ttemp/SheetMidiSync_Baseline_backup/nhd_sheet(dwd-re20000)/chopin_op30no2_v5.pkl\n",
      "Finished strip 0\n",
      "Finished strip 1\n",
      "Finished strip 2\n",
      "Finished strip 3\n",
      "Finished strip 4\n",
      "Finished strip 5\n",
      "Finished strip 6\n",
      "Finished strip 7\n",
      "Finished strip 8\n",
      "Finished strip 9\n",
      "Processed 1 of 1, chopin_op30no2_v5\n",
      "/home/mint/ttemp/SheetMidiSync_Baseline_backup/nhd_sheet(dwd-re20000)/chopin_op30no2_v6.pkl\n",
      "Finished strip 0\n",
      "Finished strip 1\n",
      "Finished strip 2\n",
      "Finished strip 3\n",
      "Finished strip 4\n",
      "Finished strip 5\n",
      "Finished strip 6\n",
      "Finished strip 7\n",
      "Finished strip 8\n",
      "Finished strip 9\n",
      "Finished strip 10\n",
      "Processed 1 of 1, chopin_op30no2_v6\n",
      "clementi_op36no1mv3\n",
      "/home/mint/ttemp/SheetMidiSync_Baseline_backup/nhd_sheet(dwd-re20000)/clementi_op36no1mv3_v1.pkl\n",
      "Finished strip 0\n",
      "Finished strip 1\n",
      "Finished strip 2\n",
      "Finished strip 3\n",
      "Finished strip 4\n",
      "Finished strip 5\n",
      "Finished strip 6\n",
      "Finished strip 7\n",
      "Processed 1 of 1, clementi_op36no1mv3_v1\n",
      "/home/mint/ttemp/SheetMidiSync_Baseline_backup/nhd_sheet(dwd-re20000)/clementi_op36no1mv3_v2.pkl\n",
      "Finished strip 0\n",
      "Finished strip 1\n",
      "Finished strip 2\n",
      "Finished strip 3\n",
      "Finished strip 4\n",
      "Finished strip 5\n",
      "Finished strip 6\n",
      "Finished strip 7\n",
      "Processed 1 of 1, clementi_op36no1mv3_v2\n",
      "mendelssohn_op62no3\n",
      "/home/mint/ttemp/SheetMidiSync_Baseline_backup/nhd_sheet(dwd-re20000)/mendelssohn_op62no3_v1.pkl\n",
      "Finished strip 0\n",
      "Finished strip 1\n",
      "Finished strip 2\n",
      "Finished strip 3\n",
      "Finished strip 4\n",
      "Finished strip 5\n",
      "Finished strip 6\n",
      "Finished strip 7\n",
      "Finished strip 8\n",
      "Finished strip 9\n",
      "Processed 1 of 1, mendelssohn_op62no3_v1\n",
      "/home/mint/ttemp/SheetMidiSync_Baseline_backup/nhd_sheet(dwd-re20000)/mendelssohn_op62no3_v2.pkl\n",
      "Finished strip 0\n",
      "Finished strip 1\n",
      "Finished strip 2\n",
      "Finished strip 3\n",
      "Finished strip 4\n",
      "Finished strip 5\n",
      "Finished strip 6\n",
      "Finished strip 7\n",
      "Processed 1 of 1, mendelssohn_op62no3_v2\n",
      "/home/mint/ttemp/SheetMidiSync_Baseline_backup/nhd_sheet(dwd-re20000)/mendelssohn_op62no3_v3.pkl\n",
      "Finished strip 0\n",
      "Finished strip 1\n",
      "Finished strip 2\n",
      "Finished strip 3\n",
      "Finished strip 4\n",
      "Finished strip 5\n",
      "Finished strip 6\n",
      "Finished strip 7\n",
      "Finished strip 8\n",
      "Processed 1 of 1, mendelssohn_op62no3_v3\n"
     ]
    }
   ],
   "source": [
    "pieces = glob.glob('midi/*')\n",
    "pieces = list(map(lambda x: os.path.splitext(os.path.basename(x))[0], pieces))\n",
    "\n",
    "error_pieces = []\n",
    "hyp_dir = 'hyp_align'\n",
    "if not os.path.exists(hyp_dir):\n",
    "    os.mkdir(hyp_dir)\n",
    "    \n",
    "zeroPad = 50\n",
    "nhd_sheet_dir = 'nhd_sheet' # directory for storing simplified score generated with notehead detection\n",
    "if not os.path.exists(nhd_sheet_dir):\n",
    "    os.mkdir(nhd_sheet_dir)\n",
    "    \n",
    "bs_sheet_dir = 'bs_sheet' # directory for storing bootleg score generated from midi\n",
    "if not os.path.exists(bs_sheet_dir):\n",
    "    os.mkdir(bs_sheet_dir)\n",
    "\n",
    "for piece in tqdm_notebook(pieces):  # for every pair of matching scores\n",
    "\n",
    "    scores = [os.path.basename(elem) for elem in sorted(glob.glob('score_data/prepped_png/%s*' % piece))]\n",
    "    midifiles = [m for m in sorted(glob.glob('midi/%s.mid' % piece))]\n",
    "    for score in scores:\n",
    "        strips = loadStripData(score)\n",
    "        strips = [rotateToHorizontal(s) for s in strips]\n",
    "        striplens = [s.shape[1] for s in strips]\n",
    "        for i, midifile in enumerate(midifiles):\n",
    "            midiID = os.path.splitext(os.path.basename(midifile))[0]\n",
    "            outfile = '%s/%s.pkl' % (hyp_dir, score)\n",
    "            if not os.path.exists(outfile):\n",
    "                try:\n",
    "                    nhd_sheet_file = nhd_sheet_dir+'/'+score+'.pkl'\n",
    "                    print(nhd_sheet_file)\n",
    "                    if os.path.exists(nhd_sheet_file):\n",
    "                        dhyp = pickle.load(open(nhd_sheet_file, 'rb'))\n",
    "                        sheetNotehead = dhyp['sheetNotehead']\n",
    "                    else:\n",
    "                        sheetNotehead = convertNoteheadAll(strips)\n",
    "                        with open(nhd_sheet_file,'wb') as f:\n",
    "                            pickle.dump({'sheetNotehead': sheetNotehead}, f)\n",
    "\n",
    "                    wp, midiSynths, strips, timeMapping, fs = alignStripSequence(score, strips, sheetNotehead, midifile, zeroPad)\n",
    "                        \n",
    "                except ValueError:\n",
    "                    error_pieces.append(piece)\n",
    "                    print(\"Encounter an error piece [ValueError] {:} [Total num = {:}]\".format(piece, len(error_pieces)))\n",
    "                    continue\n",
    "                except MemoryError:\n",
    "                    error_pieces.append(piece)\n",
    "                    print(\"Encounter an error piece [MemoryError] {:} [Total num = {:}]\".format(piece, len(error_pieces)))\n",
    "                    continue\n",
    "\n",
    "                with open(outfile,'wb') as f:\n",
    "                    pickle.dump({'wp':wp,'striplens':striplens,'fs':fs,'zeroPad':zeroPad,'timeMapping':timeMapping}, f)\n",
    "                    \n",
    "                visualize_outfile = '%s/%s.pkl' % (bs_sheet_dir, score)\n",
    "                with open(visualize_outfile,'wb') as f:\n",
    "                    pickle.dump({'strips':strips,'midiSynths':midiSynths,'wp':wp}, f)\n",
    "            else:\n",
    "                print('Already aligned!')\n",
    "            print('Processed %d of %d, %s' % (i+1, len(midifiles), score))\n",
    "    # garbage collection\n",
    "    gc.collect()"
   ]
  }
 ],
 "metadata": {
  "anaconda-cloud": {},
  "kernelspec": {
   "display_name": "Python [Anaconda3]",
   "language": "python",
   "name": "Python [Anaconda3]"
  },
  "language_info": {
   "codemirror_mode": {
    "name": "ipython",
    "version": 3
   },
   "file_extension": ".py",
   "mimetype": "text/x-python",
   "name": "python",
   "nbconvert_exporter": "python",
   "pygments_lexer": "ipython3",
   "version": "3.5.2"
  },
  "latex_envs": {
   "LaTeX_envs_menu_present": true,
   "autoclose": false,
   "autocomplete": true,
   "bibliofile": "biblio.bib",
   "cite_by": "apalike",
   "current_citInitial": 1,
   "eqLabelWithNumbers": true,
   "eqNumInitial": 1,
   "hotkeys": {
    "equation": "Ctrl-E",
    "itemize": "Ctrl-I"
   },
   "labels_anchors": false,
   "latex_user_defs": false,
   "report_style_numbering": false,
   "user_envs_cfg": false
  },
  "toc": {
   "nav_menu": {},
   "number_sections": true,
   "sideBar": true,
   "skip_h1_title": false,
   "title_cell": "Table of Contents",
   "title_sidebar": "Contents",
   "toc_cell": false,
   "toc_position": {},
   "toc_section_display": true,
   "toc_window_display": true
  },
  "varInspector": {
   "cols": {
    "lenName": 16,
    "lenType": 16,
    "lenVar": 40
   },
   "kernels_config": {
    "python": {
     "delete_cmd_postfix": "",
     "delete_cmd_prefix": "del ",
     "library": "var_list.py",
     "varRefreshCmd": "print(var_dic_list())"
    },
    "r": {
     "delete_cmd_postfix": ") ",
     "delete_cmd_prefix": "rm(",
     "library": "var_list.r",
     "varRefreshCmd": "cat(var_dic_list()) "
    }
   },
   "types_to_exclude": [
    "module",
    "function",
    "builtin_function_or_method",
    "instance",
    "_Feature"
   ],
   "window_display": false
  }
 },
 "nbformat": 4,
 "nbformat_minor": 2
}
